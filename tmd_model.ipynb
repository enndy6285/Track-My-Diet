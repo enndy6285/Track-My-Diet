{
  "nbformat": 4,
  "nbformat_minor": 0,
  "metadata": {
    "kernelspec": {
      "display_name": "Python [conda env:metis] *",
      "language": "python",
      "name": "conda-env-metis-py"
    },
    "language_info": {
      "codemirror_mode": {
        "name": "ipython",
        "version": 3
      },
      "file_extension": ".py",
      "mimetype": "text/x-python",
      "name": "python",
      "nbconvert_exporter": "python",
      "pygments_lexer": "ipython3",
      "version": "3.7.4"
    },
    "colab": {
      "name": "andy_project_05_model.ipynb",
      "provenance": [],
      "toc_visible": true
    },
    "accelerator": "GPU"
  },
  "cells": [
    {
      "cell_type": "markdown",
      "metadata": {
        "id": "gPZPdeZgb1IF",
        "colab_type": "text"
      },
      "source": [
        "# Project 5 - Diet Tracker\n",
        "Author - Andy Tan\n",
        "\n",
        "This is the main notebook for creating a food image classifier using neural networks using the Food-11 food image dataset. Additional information on the dataset and data preparation can be found in the project_05_data.ipynb notebook. This notebook was designed to be run on Google Colab to take advantage of GPU processing.\n",
        "\n",
        "Table of Contents:\n",
        "1. Import packages\n",
        "2. Read data\n",
        "3. Model Building\n",
        "4. Model Assessment"
      ]
    },
    {
      "cell_type": "markdown",
      "metadata": {
        "id": "p0fuPiAIamrA",
        "colab_type": "text"
      },
      "source": [
        "## 1. Import Packages"
      ]
    },
    {
      "cell_type": "code",
      "metadata": {
        "id": "zLfO8ctPb1IG",
        "colab_type": "code",
        "outputId": "28d1d9ad-b732-40f4-c2fd-d3f2c7347fa3",
        "colab": {
          "base_uri": "https://localhost:8080/",
          "height": 88
        }
      },
      "source": [
        "import pandas as pd\n",
        "import numpy as np\n",
        "from collections import Counter\n",
        "\n",
        "import matplotlib.pyplot as plt\n",
        "import seaborn as sns\n",
        "%pylab inline"
      ],
      "execution_count": 3,
      "outputs": [
        {
          "output_type": "stream",
          "text": [
            "Populating the interactive namespace from numpy and matplotlib\n"
          ],
          "name": "stdout"
        },
        {
          "output_type": "stream",
          "text": [
            "/usr/local/lib/python3.6/dist-packages/statsmodels/tools/_testing.py:19: FutureWarning: pandas.util.testing is deprecated. Use the functions in the public API at pandas.testing instead.\n",
            "  import pandas.util.testing as tm\n"
          ],
          "name": "stderr"
        }
      ]
    },
    {
      "cell_type": "code",
      "metadata": {
        "id": "TU_A25URb1IJ",
        "colab_type": "code",
        "colab": {
          "base_uri": "https://localhost:8080/",
          "height": 34
        },
        "outputId": "cc389239-e6dd-47d6-9c6f-6dba7345284e"
      },
      "source": [
        "import keras\n",
        "from keras.applications import mobilenet_v2, inception_v3, resnet_v2\n",
        "from keras.backend import clear_session\n",
        "from keras.callbacks import EarlyStopping, ReduceLROnPlateau\n",
        "from keras.models import Model, Sequential, load_model\n",
        "from keras.layers import Dense, Conv2D, MaxPooling2D, Flatten, GlobalAveragePooling2D, InputLayer, Dropout\n",
        "from keras.optimizers import SGD, Adam\n",
        "from keras.preprocessing import image\n",
        "from keras.preprocessing.image import ImageDataGenerator\n",
        "from keras.utils import np_utils"
      ],
      "execution_count": 4,
      "outputs": [
        {
          "output_type": "stream",
          "text": [
            "Using TensorFlow backend.\n"
          ],
          "name": "stderr"
        }
      ]
    },
    {
      "cell_type": "code",
      "metadata": {
        "id": "QkEEiHqGb1IM",
        "colab_type": "code",
        "colab": {}
      },
      "source": [
        "from sklearn.metrics import accuracy_score, classification_report, confusion_matrix"
      ],
      "execution_count": 0,
      "outputs": []
    },
    {
      "cell_type": "markdown",
      "metadata": {
        "id": "1Kdr3T97axQm",
        "colab_type": "text"
      },
      "source": [
        "## 2. Read the Data\n",
        "The following two blocks of code are used to connect colab to google drive to read in data. They need to be run once per session. Uncomment to run.\n"
      ]
    },
    {
      "cell_type": "code",
      "metadata": {
        "id": "GEABGD2Lb1IR",
        "colab_type": "code",
        "colab": {}
      },
      "source": [
        "# Mount Google Drive where Food-11 dataset is saved as zip file.\n",
        "\n",
        "#from google.colab import drive\n",
        "#drive.mount('/content/drive')"
      ],
      "execution_count": 0,
      "outputs": []
    },
    {
      "cell_type": "code",
      "metadata": {
        "id": "Yju87vVrks68",
        "colab_type": "code",
        "colab": {}
      },
      "source": [
        "# Extracting images from Food-11 zip\n",
        "\n",
        "#!unzip \"/content/drive/My Drive/Colab Notebooks/data/food-11.zip\""
      ],
      "execution_count": 0,
      "outputs": []
    },
    {
      "cell_type": "code",
      "metadata": {
        "id": "aafOgRiEb1IU",
        "colab_type": "code",
        "colab": {}
      },
      "source": [
        "#Reading in dataframes to be used in flow_from_dataframe() generators\n",
        "df_train = pd.read_pickle(f'/content/drive/My Drive/Colab Notebooks/data/food11_train.pkl')\n",
        "df_val = pd.read_pickle(f'/content/drive/My Drive/Colab Notebooks/data/food11_val.pkl')\n",
        "df_test = pd.read_pickle(f'/content/drive/My Drive/Colab Notebooks/data/food11_test.pkl')"
      ],
      "execution_count": 0,
      "outputs": []
    },
    {
      "cell_type": "code",
      "metadata": {
        "id": "LjszPZ9ub1IW",
        "colab_type": "code",
        "outputId": "7821ce5a-2293-4dac-9997-2e6457b6fa08",
        "colab": {
          "base_uri": "https://localhost:8080/",
          "height": 419
        }
      },
      "source": [
        "df_train"
      ],
      "execution_count": 9,
      "outputs": [
        {
          "output_type": "execute_result",
          "data": {
            "text/html": [
              "<div>\n",
              "<style scoped>\n",
              "    .dataframe tbody tr th:only-of-type {\n",
              "        vertical-align: middle;\n",
              "    }\n",
              "\n",
              "    .dataframe tbody tr th {\n",
              "        vertical-align: top;\n",
              "    }\n",
              "\n",
              "    .dataframe thead th {\n",
              "        text-align: right;\n",
              "    }\n",
              "</style>\n",
              "<table border=\"1\" class=\"dataframe\">\n",
              "  <thead>\n",
              "    <tr style=\"text-align: right;\">\n",
              "      <th></th>\n",
              "      <th>path</th>\n",
              "      <th>folder</th>\n",
              "      <th>name</th>\n",
              "      <th>cat</th>\n",
              "      <th>cat_name</th>\n",
              "      <th>cat2_name</th>\n",
              "      <th>is_meat</th>\n",
              "    </tr>\n",
              "  </thead>\n",
              "  <tbody>\n",
              "    <tr>\n",
              "      <th>0</th>\n",
              "      <td>training/3_462.jpg</td>\n",
              "      <td>training</td>\n",
              "      <td>3_462.jpg</td>\n",
              "      <td>3</td>\n",
              "      <td>egg</td>\n",
              "      <td>dairy-egg</td>\n",
              "      <td>not_meat</td>\n",
              "    </tr>\n",
              "    <tr>\n",
              "      <th>1</th>\n",
              "      <td>training/4_69.jpg</td>\n",
              "      <td>training</td>\n",
              "      <td>4_69.jpg</td>\n",
              "      <td>4</td>\n",
              "      <td>fried</td>\n",
              "      <td>fried</td>\n",
              "      <td>not_meat</td>\n",
              "    </tr>\n",
              "    <tr>\n",
              "      <th>2</th>\n",
              "      <td>training/5_925.jpg</td>\n",
              "      <td>training</td>\n",
              "      <td>5_925.jpg</td>\n",
              "      <td>5</td>\n",
              "      <td>meat</td>\n",
              "      <td>meat</td>\n",
              "      <td>meat</td>\n",
              "    </tr>\n",
              "    <tr>\n",
              "      <th>3</th>\n",
              "      <td>training/1_202.jpg</td>\n",
              "      <td>training</td>\n",
              "      <td>1_202.jpg</td>\n",
              "      <td>1</td>\n",
              "      <td>dairy</td>\n",
              "      <td>dairy-egg</td>\n",
              "      <td>not_meat</td>\n",
              "    </tr>\n",
              "    <tr>\n",
              "      <th>4</th>\n",
              "      <td>training/5_241.jpg</td>\n",
              "      <td>training</td>\n",
              "      <td>5_241.jpg</td>\n",
              "      <td>5</td>\n",
              "      <td>meat</td>\n",
              "      <td>meat</td>\n",
              "      <td>meat</td>\n",
              "    </tr>\n",
              "    <tr>\n",
              "      <th>...</th>\n",
              "      <td>...</td>\n",
              "      <td>...</td>\n",
              "      <td>...</td>\n",
              "      <td>...</td>\n",
              "      <td>...</td>\n",
              "      <td>...</td>\n",
              "      <td>...</td>\n",
              "    </tr>\n",
              "    <tr>\n",
              "      <th>9861</th>\n",
              "      <td>training/8_367.jpg</td>\n",
              "      <td>training</td>\n",
              "      <td>8_367.jpg</td>\n",
              "      <td>8</td>\n",
              "      <td>seafood</td>\n",
              "      <td>seafood</td>\n",
              "      <td>not_meat</td>\n",
              "    </tr>\n",
              "    <tr>\n",
              "      <th>9862</th>\n",
              "      <td>training/10_627.jpg</td>\n",
              "      <td>training</td>\n",
              "      <td>10_627.jpg</td>\n",
              "      <td>10</td>\n",
              "      <td>fruit-veg</td>\n",
              "      <td>fruit-veg</td>\n",
              "      <td>not_meat</td>\n",
              "    </tr>\n",
              "    <tr>\n",
              "      <th>9863</th>\n",
              "      <td>training/2_751.jpg</td>\n",
              "      <td>training</td>\n",
              "      <td>2_751.jpg</td>\n",
              "      <td>2</td>\n",
              "      <td>dessert</td>\n",
              "      <td>dessert</td>\n",
              "      <td>not_meat</td>\n",
              "    </tr>\n",
              "    <tr>\n",
              "      <th>9864</th>\n",
              "      <td>training/9_1229.jpg</td>\n",
              "      <td>training</td>\n",
              "      <td>9_1229.jpg</td>\n",
              "      <td>9</td>\n",
              "      <td>soup</td>\n",
              "      <td>soup</td>\n",
              "      <td>not_meat</td>\n",
              "    </tr>\n",
              "    <tr>\n",
              "      <th>9865</th>\n",
              "      <td>training/3_806.jpg</td>\n",
              "      <td>training</td>\n",
              "      <td>3_806.jpg</td>\n",
              "      <td>3</td>\n",
              "      <td>egg</td>\n",
              "      <td>dairy-egg</td>\n",
              "      <td>not_meat</td>\n",
              "    </tr>\n",
              "  </tbody>\n",
              "</table>\n",
              "<p>9866 rows × 7 columns</p>\n",
              "</div>"
            ],
            "text/plain": [
              "                     path    folder        name  ...   cat_name  cat2_name   is_meat\n",
              "0      training/3_462.jpg  training   3_462.jpg  ...        egg  dairy-egg  not_meat\n",
              "1       training/4_69.jpg  training    4_69.jpg  ...      fried      fried  not_meat\n",
              "2      training/5_925.jpg  training   5_925.jpg  ...       meat       meat      meat\n",
              "3      training/1_202.jpg  training   1_202.jpg  ...      dairy  dairy-egg  not_meat\n",
              "4      training/5_241.jpg  training   5_241.jpg  ...       meat       meat      meat\n",
              "...                   ...       ...         ...  ...        ...        ...       ...\n",
              "9861   training/8_367.jpg  training   8_367.jpg  ...    seafood    seafood  not_meat\n",
              "9862  training/10_627.jpg  training  10_627.jpg  ...  fruit-veg  fruit-veg  not_meat\n",
              "9863   training/2_751.jpg  training   2_751.jpg  ...    dessert    dessert  not_meat\n",
              "9864  training/9_1229.jpg  training  9_1229.jpg  ...       soup       soup  not_meat\n",
              "9865   training/3_806.jpg  training   3_806.jpg  ...        egg  dairy-egg  not_meat\n",
              "\n",
              "[9866 rows x 7 columns]"
            ]
          },
          "metadata": {
            "tags": []
          },
          "execution_count": 9
        }
      ]
    },
    {
      "cell_type": "code",
      "metadata": {
        "id": "2WlHPZ_Fb1IZ",
        "colab_type": "code",
        "colab": {}
      },
      "source": [
        ""
      ],
      "execution_count": 0,
      "outputs": []
    },
    {
      "cell_type": "markdown",
      "metadata": {
        "id": "iTNXRzDYgqBW",
        "colab_type": "text"
      },
      "source": [
        "## 3. Model Building\n",
        "To make an image classifier, a convolutional neural network was built using transfer learning and then fine-tuning from InceptionV3. InceptionV3, also known as GoogleNet, is a pretrained CNN using the Imagenet database. It was developed to achieve higher accuracy without a significant increase in computing cost and was chosen in this project for those reasons.\n",
        "\n",
        "The following resources were used to help design the CNN in this project:<br>\n",
        "https://blog.keras.io/building-powerful-image-classification-models-using-very-little-data.html<br>\n",
        "https://github.com/fchollet/deep-learning-with-python-notebooks/blob/master/5.3-using-a-pretrained-convnet.ipynb<br>\n",
        "https://colab.research.google.com/drive/1xL2jSdY-MGlN60gGuSH_L30P7kxxwUfM"
      ]
    },
    {
      "cell_type": "code",
      "metadata": {
        "id": "Wx5nDGFcb1Ib",
        "colab_type": "code",
        "colab": {}
      },
      "source": [
        ""
      ],
      "execution_count": 0,
      "outputs": []
    },
    {
      "cell_type": "markdown",
      "metadata": {
        "id": "u-cjXLvQoWuA",
        "colab_type": "text"
      },
      "source": [
        "### 3.1 Data Preprocessing\n",
        "Data was loaded into Keras using ImageDataGenerator and flow_from_dataframe methods. Data augmentation was used to increase size of training data."
      ]
    },
    {
      "cell_type": "code",
      "metadata": {
        "id": "E2LV8dZGb1Id",
        "colab_type": "code",
        "outputId": "6103f310-facf-4e88-bcc9-dbc2bd0d2197",
        "colab": {
          "base_uri": "https://localhost:8080/",
          "height": 68
        }
      },
      "source": [
        "img_size = 299  #image size for inceptionv3\n",
        "\n",
        "#Training image generator with image augmentation\n",
        "datagen = ImageDataGenerator(\n",
        "    preprocessing_function=inception_v3.preprocess_input,\n",
        "    rotation_range=30,\n",
        "    zoom_range=0.2,\n",
        "    shear_range=0.2,\n",
        "    width_shift_range=0.2,\n",
        "    height_shift_range=0.2,\n",
        "    horizontal_flip=True,\n",
        "    brightness_range=[0.8,1.2])\n",
        "\n",
        "#Augmentation is not used for validation and test data. Data is normalized using built it inception_v3 preprocessing function\n",
        "val_datagen = ImageDataGenerator(preprocessing_function=inception_v3.preprocess_input)\n",
        "test_datagen = ImageDataGenerator(preprocessing_function=inception_v3.preprocess_input)\n",
        "\n",
        "'''Setting classification scheme:\n",
        "    'is_meat' is a binary classifier. \n",
        "    'cat_name' classifies into the 11 categories of the original dataset. \n",
        "    'cat2_name' consolidates the original categories into 8 categories.'''\n",
        "target = 'cat2_name'   # 'is_meat', 'cat_name'\n",
        "\n",
        "num_classes = df_train[target].nunique()\n",
        "\n",
        "# Initializing generators to read images\n",
        "train_generator = datagen.flow_from_dataframe(dataframe=df_train, directory='/content/food-11/training',\n",
        "                                             x_col=\"name\", y_col=target,\n",
        "                                             target_size=(img_size,img_size),\n",
        "                                             class_mode=\"categorical\")\n",
        "val_generator = val_datagen.flow_from_dataframe(dataframe=df_val, directory='/content/food-11/validation',\n",
        "                                             x_col=\"name\", y_col=target,\n",
        "                                             target_size=(img_size,img_size),\n",
        "                                             class_mode=\"categorical\")\n",
        "test_generator = test_datagen.flow_from_dataframe(dataframe=df_test, directory='/content/food-11/evaluation',\n",
        "                                             x_col=\"name\", y_col=target,\n",
        "                                             target_size=(img_size,img_size),\n",
        "                                             class_mode=\"categorical\",\n",
        "                                             shuffle=False)"
      ],
      "execution_count": 10,
      "outputs": [
        {
          "output_type": "stream",
          "text": [
            "Found 9866 validated image filenames belonging to 8 classes.\n",
            "Found 3430 validated image filenames belonging to 8 classes.\n",
            "Found 3347 validated image filenames belonging to 8 classes.\n"
          ],
          "name": "stdout"
        }
      ]
    },
    {
      "cell_type": "code",
      "metadata": {
        "id": "uwRNADZ-b1Ig",
        "colab_type": "code",
        "outputId": "2950c08e-192c-40ec-b44e-a017746f962b",
        "colab": {
          "base_uri": "https://localhost:8080/",
          "height": 51
        }
      },
      "source": [
        "# Class labels\n",
        "class_labels = train_generator.class_indices.keys()\n",
        "print(f'Class labels:\\n{class_labels}')"
      ],
      "execution_count": 11,
      "outputs": [
        {
          "output_type": "stream",
          "text": [
            "Class labels:\n",
            "dict_keys(['dairy-egg', 'dessert', 'fried', 'fruit-veg', 'grains', 'meat', 'seafood', 'soup'])\n"
          ],
          "name": "stdout"
        }
      ]
    },
    {
      "cell_type": "code",
      "metadata": {
        "id": "0F7ii0Ybb1Ii",
        "colab_type": "code",
        "colab": {}
      },
      "source": [
        "# Calculate class weights as inverse of class distribution. These will be used when fitting the model to correct for class imbalance.\n",
        "counts = Counter(train_generator.classes)\n",
        "\n",
        "max_num = float(max(counts.values()))       \n",
        "class_weights = {class_id : max_num/class_num for class_id, class_num in counts.items()}"
      ],
      "execution_count": 0,
      "outputs": []
    },
    {
      "cell_type": "code",
      "metadata": {
        "id": "UDcgEt6cb1Ik",
        "colab_type": "code",
        "colab": {}
      },
      "source": [
        ""
      ],
      "execution_count": 0,
      "outputs": []
    },
    {
      "cell_type": "markdown",
      "metadata": {
        "id": "DKMX4FkytUe-",
        "colab_type": "text"
      },
      "source": [
        "### 3.2 Transfer Learning\n",
        "We will first apply transfer learning to InceptionV3 by building a new fully connected block on the convolutional base. The connected block consists of a globalaveragepooling() laying which helped with overfitting compared to Flatten(). Dropout percentage was also increased to help with overfitting."
      ]
    },
    {
      "cell_type": "code",
      "metadata": {
        "id": "2UdEZOxpb1In",
        "colab_type": "code",
        "outputId": "c772e290-7268-4d91-8749-43fcb79bf65f",
        "colab": {
          "base_uri": "https://localhost:8080/",
          "height": 51
        }
      },
      "source": [
        "# Import InceptionV3 model except for top layer\n",
        "base_model = inception_v3.InceptionV3(weights='imagenet', include_top=False, input_shape=(img_size,img_size,3))"
      ],
      "execution_count": 33,
      "outputs": [
        {
          "output_type": "stream",
          "text": [
            "Downloading data from https://github.com/fchollet/deep-learning-models/releases/download/v0.5/inception_v3_weights_tf_dim_ordering_tf_kernels_notop.h5\n",
            "87916544/87910968 [==============================] - 7s 0us/step\n"
          ],
          "name": "stdout"
        }
      ]
    },
    {
      "cell_type": "code",
      "metadata": {
        "id": "O4MGXV3K_O-A",
        "colab_type": "code",
        "colab": {}
      },
      "source": [
        "# Freeze convolutional layers\n",
        "for layer in base_model.layers:\n",
        "    layer.trainable = False\n",
        "    \n",
        "# Establish new fully connected block.\n",
        "x = base_model.output\n",
        "x = GlobalAveragePooling2D(name='avg_pool')(x)\n",
        "x = Dense(256, activation='relu')(x)\n",
        "x = Dropout(0.3)(x)\n",
        "x = Dense(128, activation='relu')(x)\n",
        "x = Dropout(0.3)(x)\n",
        "predictions = Dense(num_classes, activation='softmax')(x)\n",
        "\n",
        "# Compile model\n",
        "model = Model(inputs=base_model.input, outputs=predictions)\n",
        "model.compile(optimizer=Adam(), loss='categorical_crossentropy', metrics=['accuracy'])"
      ],
      "execution_count": 0,
      "outputs": []
    },
    {
      "cell_type": "code",
      "metadata": {
        "id": "gSQEUSUkb1Io",
        "colab_type": "code",
        "outputId": "33dd6470-436d-4a25-a272-244ed6a06817",
        "colab": {
          "base_uri": "https://localhost:8080/",
          "height": 394
        }
      },
      "source": [
        "# Calculate step size for generators\n",
        "STEP_SIZE_TRAIN = train_generator.n//train_generator.batch_size\n",
        "STEP_SIZE_VAL = val_generator.n//val_generator.batch_size\n",
        "STEP_SIZE_TEST = test_generator.n//test_generator.batch_size\n",
        "\n",
        "# Fit model to training image generator.\n",
        "model.fit_generator(generator=train_generator, steps_per_epoch=STEP_SIZE_TRAIN,\n",
        "                    validation_data=val_generator, validation_steps=STEP_SIZE_VAL,\n",
        "                    class_weight=class_weights,\n",
        "                    epochs=10)"
      ],
      "execution_count": 36,
      "outputs": [
        {
          "output_type": "stream",
          "text": [
            "Epoch 1/10\n",
            "415/415 [==============================] - 428s 1s/step - loss: 1.9605 - accuracy: 0.4883 - val_loss: 0.8598 - val_accuracy: 0.7103\n",
            "Epoch 2/10\n",
            "415/415 [==============================] - 422s 1s/step - loss: 1.4154 - accuracy: 0.6438 - val_loss: 1.1425 - val_accuracy: 0.6935\n",
            "Epoch 3/10\n",
            "415/415 [==============================] - 409s 985ms/step - loss: 1.3305 - accuracy: 0.6631 - val_loss: 0.7555 - val_accuracy: 0.7140\n",
            "Epoch 4/10\n",
            "415/415 [==============================] - 404s 974ms/step - loss: 1.2421 - accuracy: 0.6886 - val_loss: 0.4334 - val_accuracy: 0.7469\n",
            "Epoch 5/10\n",
            "415/415 [==============================] - 402s 969ms/step - loss: 1.1907 - accuracy: 0.7024 - val_loss: 0.7321 - val_accuracy: 0.7430\n",
            "Epoch 6/10\n",
            "415/415 [==============================] - 396s 954ms/step - loss: 1.1544 - accuracy: 0.7116 - val_loss: 0.6045 - val_accuracy: 0.7665\n",
            "Epoch 7/10\n",
            "415/415 [==============================] - 395s 953ms/step - loss: 1.1199 - accuracy: 0.7160 - val_loss: 1.1791 - val_accuracy: 0.7370\n",
            "Epoch 8/10\n",
            "415/415 [==============================] - 393s 947ms/step - loss: 1.1227 - accuracy: 0.7245 - val_loss: 1.1642 - val_accuracy: 0.7134\n",
            "Epoch 9/10\n",
            "415/415 [==============================] - 396s 953ms/step - loss: 1.0807 - accuracy: 0.7303 - val_loss: 0.7996 - val_accuracy: 0.7611\n",
            "Epoch 10/10\n",
            "415/415 [==============================] - 392s 945ms/step - loss: 1.0684 - accuracy: 0.7344 - val_loss: 0.6679 - val_accuracy: 0.7671\n"
          ],
          "name": "stdout"
        },
        {
          "output_type": "execute_result",
          "data": {
            "text/plain": [
              "'\\nmodel.fit_generator(generator=train_generator, steps_per_epoch=STEP_SIZE_TRAIN,\\n                    validation_data=val_generator, validation_steps=STEP_SIZE_VAL,\\n                    class_weight=class_weights,\\n                    epochs=10)'"
            ]
          },
          "metadata": {
            "tags": []
          },
          "execution_count": 36
        }
      ]
    },
    {
      "cell_type": "markdown",
      "metadata": {
        "id": "GAkao8_7uIvi",
        "colab_type": "text"
      },
      "source": [
        "### 3.2 Fine-Tuning\n",
        "The first round of training was performed for 10 epochs at which point there was minimal gain in validation accuracy. Next we will proceed with fine-tuning of the model by unfreezing more layers in the InceptionV3 base. Per Chollet, it is necessary to do the initial training prior to unfreezing more layers to preserve the representations in these layers.\n",
        "\n",
        "For fine-tuning, we are unfreezing after the \"Mixed8\" layer (layer 248). This corresponds to unfreezing the last 2 convolutional sections of the InceptionV3 model. \n",
        "\n"
      ]
    },
    {
      "cell_type": "code",
      "metadata": {
        "id": "FT_IZZ3HKIG8",
        "colab_type": "code",
        "outputId": "e61cfe93-64ff-462a-929c-af1dd06eff1c",
        "colab": {
          "base_uri": "https://localhost:8080/",
          "height": 1000
        }
      },
      "source": [
        "# Get layer numbers for InceptionV3 base\n",
        "for i, layer in enumerate(model.layers):\n",
        "  print(i, layer.name)"
      ],
      "execution_count": 37,
      "outputs": [
        {
          "output_type": "stream",
          "text": [
            "0 input_1\n",
            "1 conv2d_1\n",
            "2 batch_normalization_1\n",
            "3 activation_1\n",
            "4 conv2d_2\n",
            "5 batch_normalization_2\n",
            "6 activation_2\n",
            "7 conv2d_3\n",
            "8 batch_normalization_3\n",
            "9 activation_3\n",
            "10 max_pooling2d_1\n",
            "11 conv2d_4\n",
            "12 batch_normalization_4\n",
            "13 activation_4\n",
            "14 conv2d_5\n",
            "15 batch_normalization_5\n",
            "16 activation_5\n",
            "17 max_pooling2d_2\n",
            "18 conv2d_9\n",
            "19 batch_normalization_9\n",
            "20 activation_9\n",
            "21 conv2d_7\n",
            "22 conv2d_10\n",
            "23 batch_normalization_7\n",
            "24 batch_normalization_10\n",
            "25 activation_7\n",
            "26 activation_10\n",
            "27 average_pooling2d_1\n",
            "28 conv2d_6\n",
            "29 conv2d_8\n",
            "30 conv2d_11\n",
            "31 conv2d_12\n",
            "32 batch_normalization_6\n",
            "33 batch_normalization_8\n",
            "34 batch_normalization_11\n",
            "35 batch_normalization_12\n",
            "36 activation_6\n",
            "37 activation_8\n",
            "38 activation_11\n",
            "39 activation_12\n",
            "40 mixed0\n",
            "41 conv2d_16\n",
            "42 batch_normalization_16\n",
            "43 activation_16\n",
            "44 conv2d_14\n",
            "45 conv2d_17\n",
            "46 batch_normalization_14\n",
            "47 batch_normalization_17\n",
            "48 activation_14\n",
            "49 activation_17\n",
            "50 average_pooling2d_2\n",
            "51 conv2d_13\n",
            "52 conv2d_15\n",
            "53 conv2d_18\n",
            "54 conv2d_19\n",
            "55 batch_normalization_13\n",
            "56 batch_normalization_15\n",
            "57 batch_normalization_18\n",
            "58 batch_normalization_19\n",
            "59 activation_13\n",
            "60 activation_15\n",
            "61 activation_18\n",
            "62 activation_19\n",
            "63 mixed1\n",
            "64 conv2d_23\n",
            "65 batch_normalization_23\n",
            "66 activation_23\n",
            "67 conv2d_21\n",
            "68 conv2d_24\n",
            "69 batch_normalization_21\n",
            "70 batch_normalization_24\n",
            "71 activation_21\n",
            "72 activation_24\n",
            "73 average_pooling2d_3\n",
            "74 conv2d_20\n",
            "75 conv2d_22\n",
            "76 conv2d_25\n",
            "77 conv2d_26\n",
            "78 batch_normalization_20\n",
            "79 batch_normalization_22\n",
            "80 batch_normalization_25\n",
            "81 batch_normalization_26\n",
            "82 activation_20\n",
            "83 activation_22\n",
            "84 activation_25\n",
            "85 activation_26\n",
            "86 mixed2\n",
            "87 conv2d_28\n",
            "88 batch_normalization_28\n",
            "89 activation_28\n",
            "90 conv2d_29\n",
            "91 batch_normalization_29\n",
            "92 activation_29\n",
            "93 conv2d_27\n",
            "94 conv2d_30\n",
            "95 batch_normalization_27\n",
            "96 batch_normalization_30\n",
            "97 activation_27\n",
            "98 activation_30\n",
            "99 max_pooling2d_3\n",
            "100 mixed3\n",
            "101 conv2d_35\n",
            "102 batch_normalization_35\n",
            "103 activation_35\n",
            "104 conv2d_36\n",
            "105 batch_normalization_36\n",
            "106 activation_36\n",
            "107 conv2d_32\n",
            "108 conv2d_37\n",
            "109 batch_normalization_32\n",
            "110 batch_normalization_37\n",
            "111 activation_32\n",
            "112 activation_37\n",
            "113 conv2d_33\n",
            "114 conv2d_38\n",
            "115 batch_normalization_33\n",
            "116 batch_normalization_38\n",
            "117 activation_33\n",
            "118 activation_38\n",
            "119 average_pooling2d_4\n",
            "120 conv2d_31\n",
            "121 conv2d_34\n",
            "122 conv2d_39\n",
            "123 conv2d_40\n",
            "124 batch_normalization_31\n",
            "125 batch_normalization_34\n",
            "126 batch_normalization_39\n",
            "127 batch_normalization_40\n",
            "128 activation_31\n",
            "129 activation_34\n",
            "130 activation_39\n",
            "131 activation_40\n",
            "132 mixed4\n",
            "133 conv2d_45\n",
            "134 batch_normalization_45\n",
            "135 activation_45\n",
            "136 conv2d_46\n",
            "137 batch_normalization_46\n",
            "138 activation_46\n",
            "139 conv2d_42\n",
            "140 conv2d_47\n",
            "141 batch_normalization_42\n",
            "142 batch_normalization_47\n",
            "143 activation_42\n",
            "144 activation_47\n",
            "145 conv2d_43\n",
            "146 conv2d_48\n",
            "147 batch_normalization_43\n",
            "148 batch_normalization_48\n",
            "149 activation_43\n",
            "150 activation_48\n",
            "151 average_pooling2d_5\n",
            "152 conv2d_41\n",
            "153 conv2d_44\n",
            "154 conv2d_49\n",
            "155 conv2d_50\n",
            "156 batch_normalization_41\n",
            "157 batch_normalization_44\n",
            "158 batch_normalization_49\n",
            "159 batch_normalization_50\n",
            "160 activation_41\n",
            "161 activation_44\n",
            "162 activation_49\n",
            "163 activation_50\n",
            "164 mixed5\n",
            "165 conv2d_55\n",
            "166 batch_normalization_55\n",
            "167 activation_55\n",
            "168 conv2d_56\n",
            "169 batch_normalization_56\n",
            "170 activation_56\n",
            "171 conv2d_52\n",
            "172 conv2d_57\n",
            "173 batch_normalization_52\n",
            "174 batch_normalization_57\n",
            "175 activation_52\n",
            "176 activation_57\n",
            "177 conv2d_53\n",
            "178 conv2d_58\n",
            "179 batch_normalization_53\n",
            "180 batch_normalization_58\n",
            "181 activation_53\n",
            "182 activation_58\n",
            "183 average_pooling2d_6\n",
            "184 conv2d_51\n",
            "185 conv2d_54\n",
            "186 conv2d_59\n",
            "187 conv2d_60\n",
            "188 batch_normalization_51\n",
            "189 batch_normalization_54\n",
            "190 batch_normalization_59\n",
            "191 batch_normalization_60\n",
            "192 activation_51\n",
            "193 activation_54\n",
            "194 activation_59\n",
            "195 activation_60\n",
            "196 mixed6\n",
            "197 conv2d_65\n",
            "198 batch_normalization_65\n",
            "199 activation_65\n",
            "200 conv2d_66\n",
            "201 batch_normalization_66\n",
            "202 activation_66\n",
            "203 conv2d_62\n",
            "204 conv2d_67\n",
            "205 batch_normalization_62\n",
            "206 batch_normalization_67\n",
            "207 activation_62\n",
            "208 activation_67\n",
            "209 conv2d_63\n",
            "210 conv2d_68\n",
            "211 batch_normalization_63\n",
            "212 batch_normalization_68\n",
            "213 activation_63\n",
            "214 activation_68\n",
            "215 average_pooling2d_7\n",
            "216 conv2d_61\n",
            "217 conv2d_64\n",
            "218 conv2d_69\n",
            "219 conv2d_70\n",
            "220 batch_normalization_61\n",
            "221 batch_normalization_64\n",
            "222 batch_normalization_69\n",
            "223 batch_normalization_70\n",
            "224 activation_61\n",
            "225 activation_64\n",
            "226 activation_69\n",
            "227 activation_70\n",
            "228 mixed7\n",
            "229 conv2d_73\n",
            "230 batch_normalization_73\n",
            "231 activation_73\n",
            "232 conv2d_74\n",
            "233 batch_normalization_74\n",
            "234 activation_74\n",
            "235 conv2d_71\n",
            "236 conv2d_75\n",
            "237 batch_normalization_71\n",
            "238 batch_normalization_75\n",
            "239 activation_71\n",
            "240 activation_75\n",
            "241 conv2d_72\n",
            "242 conv2d_76\n",
            "243 batch_normalization_72\n",
            "244 batch_normalization_76\n",
            "245 activation_72\n",
            "246 activation_76\n",
            "247 max_pooling2d_4\n",
            "248 mixed8\n",
            "249 conv2d_81\n",
            "250 batch_normalization_81\n",
            "251 activation_81\n",
            "252 conv2d_78\n",
            "253 conv2d_82\n",
            "254 batch_normalization_78\n",
            "255 batch_normalization_82\n",
            "256 activation_78\n",
            "257 activation_82\n",
            "258 conv2d_79\n",
            "259 conv2d_80\n",
            "260 conv2d_83\n",
            "261 conv2d_84\n",
            "262 average_pooling2d_8\n",
            "263 conv2d_77\n",
            "264 batch_normalization_79\n",
            "265 batch_normalization_80\n",
            "266 batch_normalization_83\n",
            "267 batch_normalization_84\n",
            "268 conv2d_85\n",
            "269 batch_normalization_77\n",
            "270 activation_79\n",
            "271 activation_80\n",
            "272 activation_83\n",
            "273 activation_84\n",
            "274 batch_normalization_85\n",
            "275 activation_77\n",
            "276 mixed9_0\n",
            "277 concatenate_1\n",
            "278 activation_85\n",
            "279 mixed9\n",
            "280 conv2d_90\n",
            "281 batch_normalization_90\n",
            "282 activation_90\n",
            "283 conv2d_87\n",
            "284 conv2d_91\n",
            "285 batch_normalization_87\n",
            "286 batch_normalization_91\n",
            "287 activation_87\n",
            "288 activation_91\n",
            "289 conv2d_88\n",
            "290 conv2d_89\n",
            "291 conv2d_92\n",
            "292 conv2d_93\n",
            "293 average_pooling2d_9\n",
            "294 conv2d_86\n",
            "295 batch_normalization_88\n",
            "296 batch_normalization_89\n",
            "297 batch_normalization_92\n",
            "298 batch_normalization_93\n",
            "299 conv2d_94\n",
            "300 batch_normalization_86\n",
            "301 activation_88\n",
            "302 activation_89\n",
            "303 activation_92\n",
            "304 activation_93\n",
            "305 batch_normalization_94\n",
            "306 activation_86\n",
            "307 mixed9_1\n",
            "308 concatenate_2\n",
            "309 activation_94\n",
            "310 mixed10\n",
            "311 avg_pool\n",
            "312 dense_1\n",
            "313 dropout_1\n",
            "314 dense_2\n",
            "315 dropout_2\n",
            "316 dense_3\n"
          ],
          "name": "stdout"
        }
      ]
    },
    {
      "cell_type": "code",
      "metadata": {
        "id": "zUEJI7E8b1Ir",
        "colab_type": "code",
        "colab": {}
      },
      "source": [
        "# Unfreeze layers after 'Mixed8' layer\n",
        "for layer in model.layers[:249]:\n",
        "  layer.trainable = False\n",
        "for layer in model.layers[249:]:\n",
        "  layer.trainable = True"
      ],
      "execution_count": 0,
      "outputs": []
    },
    {
      "cell_type": "code",
      "metadata": {
        "id": "3vea_cFGLK8j",
        "colab_type": "code",
        "colab": {}
      },
      "source": [
        "# Re-compile model. This time we will use a non-adaptive optimizer with low learning rate to preserve previously learned representations.\n",
        "model.compile(optimizer=SGD(lr=0.001, momentum=0.9), loss='categorical_crossentropy', metrics=['accuracy'])"
      ],
      "execution_count": 0,
      "outputs": []
    },
    {
      "cell_type": "code",
      "metadata": {
        "id": "s_BxZjwGLLCo",
        "colab_type": "code",
        "outputId": "18d8761f-422d-41e4-930f-c3f11da73e2a",
        "colab": {
          "base_uri": "https://localhost:8080/",
          "height": 527
        }
      },
      "source": [
        "# Adding early stopping parameters and a learning rate reducing schedule\n",
        "callback = [EarlyStopping(monitor='val_loss', verbose=1, patience=10, restore_best_weights=True),\n",
        "            ReduceLROnPlateau(monitor='val_loss', factor=0.1, verbose=1, patience=5)]\n",
        "\n",
        "# Fine-tune model on training image generator. Since early stopping parameters are in place, we will set a high number of epochs to run.\n",
        "history = model.fit_generator(generator=train_generator, steps_per_epoch=STEP_SIZE_TRAIN,\n",
        "                    validation_data=val_generator, validation_steps=STEP_SIZE_VAL,\n",
        "                    class_weight=class_weights,\n",
        "                    callbacks=callback,\n",
        "                    epochs=100)"
      ],
      "execution_count": 0,
      "outputs": [
        {
          "output_type": "stream",
          "text": [
            "Epoch 1/100\n",
            "415/415 [==============================] - 403s 970ms/step - loss: 0.8690 - accuracy: 0.7844 - val_loss: 0.4482 - val_accuracy: 0.8552\n",
            "Epoch 2/100\n",
            "415/415 [==============================] - 400s 963ms/step - loss: 0.6215 - accuracy: 0.8446 - val_loss: 0.6473 - val_accuracy: 0.8621\n",
            "Epoch 3/100\n",
            "415/415 [==============================] - 405s 977ms/step - loss: 0.4888 - accuracy: 0.8808 - val_loss: 0.5826 - val_accuracy: 0.8869\n",
            "Epoch 4/100\n",
            "415/415 [==============================] - 403s 970ms/step - loss: 0.4118 - accuracy: 0.8979 - val_loss: 0.1025 - val_accuracy: 0.8926\n",
            "Epoch 5/100\n",
            "415/415 [==============================] - 400s 964ms/step - loss: 0.3434 - accuracy: 0.9126 - val_loss: 0.2745 - val_accuracy: 0.8869\n",
            "Epoch 6/100\n",
            "415/415 [==============================] - 401s 965ms/step - loss: 0.2952 - accuracy: 0.9300 - val_loss: 0.2062 - val_accuracy: 0.8893\n",
            "Epoch 7/100\n",
            "415/415 [==============================] - 399s 961ms/step - loss: 0.2543 - accuracy: 0.9369 - val_loss: 0.5906 - val_accuracy: 0.8911\n",
            "Epoch 8/100\n",
            "415/415 [==============================] - 397s 955ms/step - loss: 0.2392 - accuracy: 0.9403 - val_loss: 1.0777 - val_accuracy: 0.8824\n",
            "Epoch 9/100\n",
            "415/415 [==============================] - 410s 989ms/step - loss: 0.2218 - accuracy: 0.9465 - val_loss: 0.8565 - val_accuracy: 0.8652\n",
            "\n",
            "Epoch 00009: ReduceLROnPlateau reducing learning rate to 0.00010000000474974513.\n",
            "Epoch 10/100\n",
            "415/415 [==============================] - 417s 1s/step - loss: 0.1800 - accuracy: 0.9562 - val_loss: 0.1443 - val_accuracy: 0.8875\n",
            "Epoch 11/100\n",
            "415/415 [==============================] - 416s 1s/step - loss: 0.1574 - accuracy: 0.9635 - val_loss: 0.5265 - val_accuracy: 0.8887\n",
            "Epoch 12/100\n",
            "415/415 [==============================] - 415s 1000ms/step - loss: 0.1377 - accuracy: 0.9665 - val_loss: 0.4923 - val_accuracy: 0.8869\n",
            "Epoch 13/100\n",
            "415/415 [==============================] - 414s 997ms/step - loss: 0.1377 - accuracy: 0.9647 - val_loss: 0.1283 - val_accuracy: 0.8959\n",
            "Epoch 14/100\n",
            "257/415 [=================>............] - ETA: 2:23 - loss: 0.1276 - accuracy: 0.9681"
          ],
          "name": "stdout"
        }
      ]
    },
    {
      "cell_type": "code",
      "metadata": {
        "id": "vg4f4wkqLLFN",
        "colab_type": "code",
        "colab": {}
      },
      "source": [
        "# Plotting accuracy and validation during training epochs\n",
        "acc = history.history['accuracy']\n",
        "val_acc = history.history['val_accuracy']\n",
        "loss = history.history['loss']\n",
        "val_loss = history.history['val_loss']\n",
        "\n",
        "epochs = range(len(acc))\n",
        "\n",
        "plt.figure(figsize=(7,7))\n",
        "sns.lineplot(epochs, acc, label='Training')\n",
        "sns.lineplot(epochs, val_acc, label='Validation')\n",
        "plt.title('Training and Validation Accuracy')\n",
        "plt.xtitle('Epochs')\n",
        "plt.ytitle('Accuracy')\n",
        "plt.legend()\n",
        "\n",
        "plt.figure(figsize=(7,7))\n",
        "sns.lineplot(epochs, loss, label='Training')\n",
        "sns.lineplot(epochs, val_loss, label='Validation')\n",
        "plt.title('Training and Validation Loss')\n",
        "plt.xtitle('Epochs')\n",
        "plt.ytitle('Loss')\n",
        "plt.legend()\n",
        "\n",
        "plt.show()"
      ],
      "execution_count": 0,
      "outputs": []
    },
    {
      "cell_type": "code",
      "metadata": {
        "id": "ldF2Lnj_LLIW",
        "colab_type": "code",
        "colab": {}
      },
      "source": [
        "# Save model\n",
        "model.save('/content/drive/My Drive/Colab Notebooks/data/model_cat2')"
      ],
      "execution_count": 0,
      "outputs": []
    },
    {
      "cell_type": "code",
      "metadata": {
        "id": "p0mIhRM_b1Is",
        "colab_type": "code",
        "colab": {}
      },
      "source": [
        ""
      ],
      "execution_count": 0,
      "outputs": []
    },
    {
      "cell_type": "code",
      "metadata": {
        "id": "BV-kCrj6b1Iu",
        "colab_type": "code",
        "colab": {}
      },
      "source": [
        ""
      ],
      "execution_count": 0,
      "outputs": []
    },
    {
      "cell_type": "code",
      "metadata": {
        "id": "K2SOxnC50ezd",
        "colab_type": "code",
        "colab": {}
      },
      "source": [
        ""
      ],
      "execution_count": 0,
      "outputs": []
    },
    {
      "cell_type": "code",
      "metadata": {
        "id": "6AdHhB520bBV",
        "colab_type": "code",
        "colab": {}
      },
      "source": [
        ""
      ],
      "execution_count": 0,
      "outputs": []
    },
    {
      "cell_type": "code",
      "metadata": {
        "id": "ZVnx5BSWyufi",
        "colab_type": "code",
        "colab": {}
      },
      "source": [
        ""
      ],
      "execution_count": 0,
      "outputs": []
    },
    {
      "cell_type": "code",
      "metadata": {
        "id": "RuUoBE6ADgA-",
        "colab_type": "code",
        "outputId": "9dba8ef2-c415-40d7-8b48-d484caee40d1",
        "colab": {
          "base_uri": "https://localhost:8080/",
          "height": 871
        }
      },
      "source": [
        ""
      ],
      "execution_count": 0,
      "outputs": [
        {
          "output_type": "display_data",
          "data": {
            "image/png": "[encoded data removed]",
            "text/plain": [
              "<Figure size 504x504 with 1 Axes>"
            ]
          },
          "metadata": {
            "tags": [],
            "needs_background": "light"
          }
        },
        {
          "output_type": "display_data",
          "data": {
            "image/png": "[encoded data removed]",
            "text/plain": [
              "<Figure size 504x504 with 1 Axes>"
            ]
          },
          "metadata": {
            "tags": [],
            "needs_background": "light"
          }
        }
      ]
    },
    {
      "cell_type": "code",
      "metadata": {
        "id": "6iqrdVZQibJC",
        "colab_type": "code",
        "colab": {}
      },
      "source": [
        ""
      ],
      "execution_count": 0,
      "outputs": []
    },
    {
      "cell_type": "code",
      "metadata": {
        "id": "Vs79vr6oOZzV",
        "colab_type": "code",
        "colab": {}
      },
      "source": [
        ""
      ],
      "execution_count": 0,
      "outputs": []
    },
    {
      "cell_type": "markdown",
      "metadata": {
        "id": "YKVFVKVXy6B7",
        "colab_type": "text"
      },
      "source": [
        "## 4. Model Assessment\n",
        "Assess performance of model on reserved test dataset"
      ]
    },
    {
      "cell_type": "code",
      "metadata": {
        "id": "knODHZymzyPi",
        "colab_type": "code",
        "colab": {}
      },
      "source": [
        "# Evaluate model on test image generator\n",
        "print('Performance on test data:')\n",
        "print(f'{model.metrics_names[0]}: model.evaluate_generator(test_generator)[0]')\n",
        "print(f'{model.metrics_names[1]}: model.evaluate_generator(test_generator)[1]')"
      ],
      "execution_count": 0,
      "outputs": []
    },
    {
      "cell_type": "code",
      "metadata": {
        "id": "Vy-SI3smE9xL",
        "colab_type": "code",
        "colab": {}
      },
      "source": [
        "# Get predicted classes\n",
        "preds = model.predict_generator(test_generator, STEP_SIZE_TEST+1)\n",
        "preds = np.argmax(preds, axis=1)\n",
        "\n"
      ],
      "execution_count": 0,
      "outputs": []
    },
    {
      "cell_type": "code",
      "metadata": {
        "id": "Z7YAj6vTWODW",
        "colab_type": "code",
        "outputId": "74aecacd-6b43-4fe9-a349-9ff0a88d9793",
        "colab": {
          "base_uri": "https://localhost:8080/",
          "height": 289
        }
      },
      "source": [
        "# Get per-class Metrics\n",
        "print('Classification Report\\n')\n",
        "print(classification_report(test_generator.classes, preds))"
      ],
      "execution_count": 14,
      "outputs": [
        {
          "output_type": "stream",
          "text": [
            "Classification Report\n",
            "              precision    recall  f1-score   support\n",
            "\n",
            "           0       0.79      0.94      0.86       483\n",
            "           1       0.89      0.82      0.85       500\n",
            "           2       0.80      0.95      0.87       287\n",
            "           3       0.96      0.94      0.95       231\n",
            "           4       0.93      0.88      0.91       611\n",
            "           5       0.90      0.88      0.89       432\n",
            "           6       0.93      0.81      0.87       303\n",
            "           7       0.99      0.94      0.97       500\n",
            "\n",
            "    accuracy                           0.89      3347\n",
            "   macro avg       0.90      0.90      0.89      3347\n",
            "weighted avg       0.90      0.89      0.89      3347\n",
            "\n"
          ],
          "name": "stdout"
        }
      ]
    },
    {
      "cell_type": "code",
      "metadata": {
        "id": "4ECem2Fdi5HO",
        "colab_type": "code",
        "outputId": "b25701f5-4ce4-4502-95e8-b71d2f224dac",
        "colab": {
          "base_uri": "https://localhost:8080/",
          "height": 673
        }
      },
      "source": [
        "# Confusion matrix for test set\n",
        "confusion = confusion_matrix(test_generator.classes,preds)\n",
        "plt.figure(dpi=150)\n",
        "sns.heatmap(confusion, cmap=plt.cm.Greens, annot=True, square=True, fmt='d', cbar=False, xticklabels=test_generator.class_indices.keys(), yticklabels=test_generator.class_indices.keys())\n",
        "\n",
        "plt.xlabel('Predicted Food Group')\n",
        "plt.ylabel('Actual Food Group')\n",
        "plt.title('Confusion Matrix (Test Data)');"
      ],
      "execution_count": 18,
      "outputs": [
        {
          "output_type": "display_data",
          "data": {
            "image/png": "[encoded data removed]",
            "text/plain": [
              "<Figure size 900x600 with 1 Axes>"
            ]
          },
          "metadata": {
            "tags": [],
            "needs_background": "light"
          }
        }
      ]
    },
    {
      "cell_type": "code",
      "metadata": {
        "id": "QvrHCeJeVeky",
        "colab_type": "code",
        "colab": {}
      },
      "source": [
        ""
      ],
      "execution_count": 0,
      "outputs": []
    },
    {
      "cell_type": "markdown",
      "metadata": {
        "id": "UzCr5_sE19MJ",
        "colab_type": "text"
      },
      "source": [
        "## 5. Production model\n",
        "In this section, we are creating a \"production model\" that can be used on new images outside of the dataset. The model is retrained by adding the validation data into the training set. The previously set aside test data will be used for validation during training. The purpose of this is to create a slightly more robust model by using more images for training."
      ]
    },
    {
      "cell_type": "code",
      "metadata": {
        "id": "Y-SOqQmJ2mwB",
        "colab_type": "code",
        "colab": {}
      },
      "source": [
        "# Clear previous model\n",
        "clear_session()"
      ],
      "execution_count": 0,
      "outputs": []
    },
    {
      "cell_type": "code",
      "metadata": {
        "id": "vCQ0l8632Z-f",
        "colab_type": "code",
        "colab": {
          "base_uri": "https://localhost:8080/",
          "height": 34
        },
        "outputId": "5275e3b1-9411-4165-b54c-eced7c0bb200"
      },
      "source": [
        "# Read dataframe containing training and validation data\n",
        "df_all = pd.read_pickle(f'/content/drive/My Drive/Colab Notebooks/data/food11_all.pkl')\n",
        "\n",
        "# Create image generator\n",
        "all_generator = datagen.flow_from_dataframe(dataframe=df_all, directory='/content/food-11/',\n",
        "                                             x_col=\"path\", y_col=target,\n",
        "                                             target_size=(img_size,img_size),\n",
        "                                             class_mode=\"categorical\")\n"
      ],
      "execution_count": 17,
      "outputs": [
        {
          "output_type": "stream",
          "text": [
            "Found 13296 validated image filenames belonging to 8 classes.\n"
          ],
          "name": "stdout"
        }
      ]
    },
    {
      "cell_type": "code",
      "metadata": {
        "id": "YbaYrHms27IX",
        "colab_type": "code",
        "colab": {}
      },
      "source": [
        "# Copy base model\n",
        "base_model = inception_v3.InceptionV3(weights='imagenet', include_top=False, input_shape=(img_size,img_size,3))\n",
        "\n",
        "# Freeze convolutional layers\n",
        "for layer in base_model.layers:\n",
        "    layer.trainable = False\n",
        "\n",
        "# Establish new fully connected block.\n",
        "x = base_model.output\n",
        "x = GlobalAveragePooling2D(name='avg_pool')(x)\n",
        "x = Dense(256, activation='relu')(x)\n",
        "x = Dropout(0.3)(x)\n",
        "x = Dense(128, activation='relu')(x)\n",
        "x = Dropout(0.3)(x)\n",
        "predictions = Dense(num_classes, activation='softmax')(x)\n",
        "\n",
        "# Compile model\n",
        "model = Model(inputs=base_model.input, outputs=predictions)\n",
        "model.compile(optimizer=Adam(), loss='categorical_crossentropy', metrics=['accuracy'])"
      ],
      "execution_count": 0,
      "outputs": []
    },
    {
      "cell_type": "code",
      "metadata": {
        "id": "Hzq1VvmG3Cv6",
        "colab_type": "code",
        "colab": {
          "base_uri": "https://localhost:8080/",
          "height": 374
        },
        "outputId": "494d55fb-7c4b-4f5c-9a7f-60cd2d2d9211"
      },
      "source": [
        "# Calculate step size for generators\n",
        "STEP_SIZE_ALL = all_generator.n//all_generator.batch_size\n",
        "STEP_SIZE_TEST = test_generator.n//test_generator.batch_size\n",
        "\n",
        "# Fit model to training image generator.\n",
        "model.fit_generator(generator=all_generator, steps_per_epoch=STEP_SIZE_ALL,\n",
        "                    validation_data=test_generator, validation_steps=STEP_SIZE_TEST,\n",
        "                    class_weight=class_weights,\n",
        "                    epochs=10)"
      ],
      "execution_count": 19,
      "outputs": [
        {
          "output_type": "stream",
          "text": [
            "Epoch 1/10\n",
            "415/415 [==============================] - 384s 926ms/step - loss: 1.9943 - accuracy: 0.4696 - val_loss: 0.9358 - val_accuracy: 0.6578\n",
            "Epoch 2/10\n",
            "415/415 [==============================] - 379s 912ms/step - loss: 1.4273 - accuracy: 0.6371 - val_loss: 1.0668 - val_accuracy: 0.7273\n",
            "Epoch 3/10\n",
            "415/415 [==============================] - 375s 904ms/step - loss: 1.3173 - accuracy: 0.6665 - val_loss: 0.7118 - val_accuracy: 0.7454\n",
            "Epoch 4/10\n",
            "415/415 [==============================] - 375s 904ms/step - loss: 1.2458 - accuracy: 0.6855 - val_loss: 0.5263 - val_accuracy: 0.7131\n",
            "Epoch 5/10\n",
            "415/415 [==============================] - 377s 909ms/step - loss: 1.1810 - accuracy: 0.6999 - val_loss: 0.6893 - val_accuracy: 0.7638\n",
            "Epoch 6/10\n",
            "415/415 [==============================] - 377s 907ms/step - loss: 1.1539 - accuracy: 0.7091 - val_loss: 0.4665 - val_accuracy: 0.7710\n",
            "Epoch 7/10\n",
            "415/415 [==============================] - 377s 908ms/step - loss: 1.1220 - accuracy: 0.7168 - val_loss: 1.0262 - val_accuracy: 0.7502\n",
            "Epoch 8/10\n",
            "415/415 [==============================] - 378s 911ms/step - loss: 1.0779 - accuracy: 0.7309 - val_loss: 1.1672 - val_accuracy: 0.7725\n",
            "Epoch 9/10\n",
            "415/415 [==============================] - 378s 910ms/step - loss: 1.0489 - accuracy: 0.7333 - val_loss: 0.7171 - val_accuracy: 0.7611\n",
            "Epoch 10/10\n",
            "415/415 [==============================] - 378s 910ms/step - loss: 1.0629 - accuracy: 0.7310 - val_loss: 0.5944 - val_accuracy: 0.7786\n"
          ],
          "name": "stdout"
        },
        {
          "output_type": "execute_result",
          "data": {
            "text/plain": [
              "<keras.callbacks.callbacks.History at 0x7f4f9d6e64e0>"
            ]
          },
          "metadata": {
            "tags": []
          },
          "execution_count": 19
        }
      ]
    },
    {
      "cell_type": "code",
      "metadata": {
        "id": "KY3mkJUs3Jeh",
        "colab_type": "code",
        "colab": {}
      },
      "source": [
        "# Unfreeze layers after 'Mixed8' layer\n",
        "for layer in model.layers[:249]:\n",
        "  layer.trainable = False\n",
        "for layer in model.layers[249:]:\n",
        "  layer.trainable = True\n",
        "\n",
        "# Re-compile model with SGD and low learning rate\n",
        "model.compile(optimizer=SGD(lr=0.001, momentum=0.9), loss='categorical_crossentropy', metrics=['accuracy'])"
      ],
      "execution_count": 0,
      "outputs": []
    },
    {
      "cell_type": "code",
      "metadata": {
        "id": "4zUp_azO3QXM",
        "colab_type": "code",
        "colab": {
          "base_uri": "https://localhost:8080/",
          "height": 1000
        },
        "outputId": "3d2ff894-f950-4c19-9ca5-fa68ef8110ce"
      },
      "source": [
        "# Adding early stopping and learning rate reducing schedule\n",
        "callback = [EarlyStopping(monitor='val_loss', verbose=1, patience=10, restore_best_weights=True),\n",
        "            ReduceLROnPlateau(monitor='val_loss', factor=0.1, verbose=1, patience=5)]\n",
        "\n",
        "# Fine-tune model on training image generator\n",
        "history = model.fit_generator(generator=all_generator, steps_per_epoch=STEP_SIZE_ALL,\n",
        "                    validation_data=test_generator, validation_steps=STEP_SIZE_TEST,\n",
        "                    class_weight=class_weights,\n",
        "                    callbacks=callback,\n",
        "                    epochs=100)"
      ],
      "execution_count": 0,
      "outputs": [
        {
          "output_type": "stream",
          "text": [
            "Epoch 1/100\n",
            "415/415 [==============================] - 389s 938ms/step - loss: 0.8563 - accuracy: 0.7881 - val_loss: 0.4571 - val_accuracy: 0.8507\n",
            "Epoch 2/100\n",
            "415/415 [==============================] - 382s 920ms/step - loss: 0.6617 - accuracy: 0.8416 - val_loss: 0.6676 - val_accuracy: 0.8884\n",
            "Epoch 3/100\n",
            "415/415 [==============================] - 382s 919ms/step - loss: 0.5661 - accuracy: 0.8613 - val_loss: 0.5250 - val_accuracy: 0.8682\n",
            "Epoch 4/100\n",
            "415/415 [==============================] - 382s 920ms/step - loss: 0.4856 - accuracy: 0.8831 - val_loss: 0.2193 - val_accuracy: 0.8706\n",
            "Epoch 5/100\n",
            "415/415 [==============================] - 381s 919ms/step - loss: 0.3903 - accuracy: 0.9029 - val_loss: 0.2990 - val_accuracy: 0.8923\n",
            "Epoch 6/100\n",
            "415/415 [==============================] - 380s 917ms/step - loss: 0.3827 - accuracy: 0.9079 - val_loss: 0.1697 - val_accuracy: 0.8929\n",
            "Epoch 7/100\n",
            "415/415 [==============================] - 379s 913ms/step - loss: 0.3239 - accuracy: 0.9206 - val_loss: 0.6992 - val_accuracy: 0.8917\n",
            "Epoch 8/100\n",
            "415/415 [==============================] - 365s 880ms/step - loss: 0.3159 - accuracy: 0.9244 - val_loss: 0.7316 - val_accuracy: 0.8842\n",
            "Epoch 9/100\n",
            "415/415 [==============================] - 361s 869ms/step - loss: 0.2779 - accuracy: 0.9306 - val_loss: 0.5389 - val_accuracy: 0.8926\n",
            "Epoch 10/100\n",
            "415/415 [==============================] - 361s 870ms/step - loss: 0.2638 - accuracy: 0.9366 - val_loss: 0.2926 - val_accuracy: 0.8947\n",
            "Epoch 11/100\n",
            "415/415 [==============================] - 360s 869ms/step - loss: 0.2426 - accuracy: 0.9405 - val_loss: 0.5991 - val_accuracy: 0.8932\n",
            "\n",
            "Epoch 00011: ReduceLROnPlateau reducing learning rate to 0.00010000000474974513.\n",
            "Epoch 12/100\n",
            "415/415 [==============================] - 359s 865ms/step - loss: 0.2164 - accuracy: 0.9463 - val_loss: 0.4993 - val_accuracy: 0.8896\n",
            "Epoch 13/100\n",
            "415/415 [==============================] - 358s 863ms/step - loss: 0.1862 - accuracy: 0.9548 - val_loss: 0.3118 - val_accuracy: 0.8941\n",
            "Epoch 14/100\n",
            "415/415 [==============================] - 358s 863ms/step - loss: 0.1928 - accuracy: 0.9520 - val_loss: 0.1694 - val_accuracy: 0.8953\n",
            "Epoch 15/100\n",
            "415/415 [==============================] - 358s 862ms/step - loss: 0.1750 - accuracy: 0.9568 - val_loss: 0.3174 - val_accuracy: 0.8998\n",
            "Epoch 16/100\n",
            "415/415 [==============================] - 357s 861ms/step - loss: 0.1530 - accuracy: 0.9625 - val_loss: 0.1748 - val_accuracy: 0.8977\n",
            "Epoch 17/100\n",
            "415/415 [==============================] - 358s 862ms/step - loss: 0.1675 - accuracy: 0.9604 - val_loss: 0.0877 - val_accuracy: 0.9005\n",
            "Epoch 18/100\n",
            "415/415 [==============================] - 357s 859ms/step - loss: 0.1640 - accuracy: 0.9616 - val_loss: 0.1725 - val_accuracy: 0.8989\n",
            "Epoch 19/100\n",
            "415/415 [==============================] - 357s 860ms/step - loss: 0.1530 - accuracy: 0.9635 - val_loss: 0.4444 - val_accuracy: 0.9038\n",
            "Epoch 20/100\n",
            "415/415 [==============================] - 354s 854ms/step - loss: 0.1507 - accuracy: 0.9625 - val_loss: 0.2767 - val_accuracy: 0.9080\n",
            "Epoch 21/100\n",
            "415/415 [==============================] - 360s 866ms/step - loss: 0.1532 - accuracy: 0.9630 - val_loss: 0.1702 - val_accuracy: 0.9044\n",
            "Epoch 22/100\n",
            "415/415 [==============================] - 358s 864ms/step - loss: 0.1472 - accuracy: 0.9630 - val_loss: 0.0457 - val_accuracy: 0.9044\n",
            "Epoch 23/100\n",
            "415/415 [==============================] - 364s 877ms/step - loss: 0.1548 - accuracy: 0.9623 - val_loss: 0.2443 - val_accuracy: 0.9017\n",
            "Epoch 24/100\n",
            "415/415 [==============================] - 366s 882ms/step - loss: 0.1396 - accuracy: 0.9669 - val_loss: 0.4262 - val_accuracy: 0.9023\n",
            "Epoch 25/100\n",
            "415/415 [==============================] - 376s 905ms/step - loss: 0.1466 - accuracy: 0.9632 - val_loss: 0.0287 - val_accuracy: 0.9053\n",
            "Epoch 26/100\n",
            "415/415 [==============================] - 380s 915ms/step - loss: 0.1394 - accuracy: 0.9647 - val_loss: 0.2379 - val_accuracy: 0.9095\n",
            "Epoch 27/100\n",
            "415/415 [==============================] - 366s 882ms/step - loss: 0.1436 - accuracy: 0.9661 - val_loss: 0.8632 - val_accuracy: 0.9059\n",
            "Epoch 28/100\n",
            "415/415 [==============================] - 360s 867ms/step - loss: 0.1291 - accuracy: 0.9680 - val_loss: 0.5798 - val_accuracy: 0.9098\n",
            "Epoch 29/100\n",
            "415/415 [==============================] - 360s 867ms/step - loss: 0.1304 - accuracy: 0.9672 - val_loss: 0.1781 - val_accuracy: 0.9062\n",
            "Epoch 30/100\n",
            "414/415 [============================>.] - ETA: 0s - loss: 0.1281 - accuracy: 0.9693"
          ],
          "name": "stdout"
        }
      ]
    },
    {
      "cell_type": "code",
      "metadata": {
        "id": "BnrWEppM3Xfe",
        "colab_type": "code",
        "colab": {}
      },
      "source": [
        "# Save production model\n",
        "model.save('/content/drive/My Drive/Colab Notebooks/data/model_prod')"
      ],
      "execution_count": 0,
      "outputs": []
    }
  ]
}