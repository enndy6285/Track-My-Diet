{
 "cells": [
  {
   "cell_type": "markdown",
   "metadata": {},
   "source": [
    "# Data Pre-processing\n",
    "The purpose of this notebook is to prepare image data for use in Keras. The data used for this project is the Food-11 image datset developed by the Multimedia Signal Processing Group (MMSPG) at the Swiss Federal Institute of Technology. Additional information about the dataset is available on the [MMSPG's homepage](https://www.epfl.ch/labs/mmspg/downloads/food-image-datasets/). The dataset is available for download on [Kaggle](https://www.kaggle.com/vermaavi/food11).\n",
    "\n",
    "The dataset consists of 16,643 food images grouped in 11 food categories - Bread, Dairy product, Dessert, Egg, Fried food, Meat, Noodles/Pasta, Rice, Seafood, Soup, and Vegetable/Fruit. The dataset comes divided into training, validation, and evaluation subsets. The files are named with the following convention:<br>{ClassID}_{ImageID}.jpg\n",
    "- ClassID: 0-10; refers to respective food category\n",
    "- ImageID: ID of the image within the class\n",
    "\n",
    "\n",
    "## Table of Contents:\n",
    "1. Import packages\n",
    "2. Load dataset\n",
    "3. Add Targets\n",
    "4. Save data to file"
   ]
  },
  {
   "cell_type": "markdown",
   "metadata": {},
   "source": [
    "## 1. Import Packages"
   ]
  },
  {
   "cell_type": "code",
   "execution_count": 40,
   "metadata": {},
   "outputs": [],
   "source": [
    "import pandas as pd\n",
    "import numpy as np\n",
    "import os\n",
    "import pickle"
   ]
  },
  {
   "cell_type": "markdown",
   "metadata": {},
   "source": [
    "## 2. Load Dataset\n",
    "In the modeling notebook, we will use Keras' flow_from_dataframe() method to load images. Firt we need to save the image filenames in a dataframe."
   ]
  },
  {
   "cell_type": "code",
   "execution_count": 41,
   "metadata": {},
   "outputs": [
    {
     "data": {
      "text/html": [
       "<div>\n",
       "<style scoped>\n",
       "    .dataframe tbody tr th:only-of-type {\n",
       "        vertical-align: middle;\n",
       "    }\n",
       "\n",
       "    .dataframe tbody tr th {\n",
       "        vertical-align: top;\n",
       "    }\n",
       "\n",
       "    .dataframe thead th {\n",
       "        text-align: right;\n",
       "    }\n",
       "</style>\n",
       "<table border=\"1\" class=\"dataframe\">\n",
       "  <thead>\n",
       "    <tr style=\"text-align: right;\">\n",
       "      <th></th>\n",
       "      <th>path</th>\n",
       "      <th>folder</th>\n",
       "      <th>name</th>\n",
       "    </tr>\n",
       "  </thead>\n",
       "  <tbody>\n",
       "    <tr>\n",
       "      <th>0</th>\n",
       "      <td>training/3_462.jpg</td>\n",
       "      <td>training</td>\n",
       "      <td>3_462.jpg</td>\n",
       "    </tr>\n",
       "    <tr>\n",
       "      <th>1</th>\n",
       "      <td>training/4_69.jpg</td>\n",
       "      <td>training</td>\n",
       "      <td>4_69.jpg</td>\n",
       "    </tr>\n",
       "    <tr>\n",
       "      <th>2</th>\n",
       "      <td>training/5_925.jpg</td>\n",
       "      <td>training</td>\n",
       "      <td>5_925.jpg</td>\n",
       "    </tr>\n",
       "    <tr>\n",
       "      <th>3</th>\n",
       "      <td>training/1_202.jpg</td>\n",
       "      <td>training</td>\n",
       "      <td>1_202.jpg</td>\n",
       "    </tr>\n",
       "    <tr>\n",
       "      <th>4</th>\n",
       "      <td>training/5_241.jpg</td>\n",
       "      <td>training</td>\n",
       "      <td>5_241.jpg</td>\n",
       "    </tr>\n",
       "    <tr>\n",
       "      <th>...</th>\n",
       "      <td>...</td>\n",
       "      <td>...</td>\n",
       "      <td>...</td>\n",
       "    </tr>\n",
       "    <tr>\n",
       "      <th>16638</th>\n",
       "      <td>evaluation/5_165.jpg</td>\n",
       "      <td>evaluation</td>\n",
       "      <td>5_165.jpg</td>\n",
       "    </tr>\n",
       "    <tr>\n",
       "      <th>16639</th>\n",
       "      <td>evaluation/5_393.jpg</td>\n",
       "      <td>evaluation</td>\n",
       "      <td>5_393.jpg</td>\n",
       "    </tr>\n",
       "    <tr>\n",
       "      <th>16640</th>\n",
       "      <td>evaluation/8_157.jpg</td>\n",
       "      <td>evaluation</td>\n",
       "      <td>8_157.jpg</td>\n",
       "    </tr>\n",
       "    <tr>\n",
       "      <th>16641</th>\n",
       "      <td>evaluation/4_86.jpg</td>\n",
       "      <td>evaluation</td>\n",
       "      <td>4_86.jpg</td>\n",
       "    </tr>\n",
       "    <tr>\n",
       "      <th>16642</th>\n",
       "      <td>evaluation/5_141.jpg</td>\n",
       "      <td>evaluation</td>\n",
       "      <td>5_141.jpg</td>\n",
       "    </tr>\n",
       "  </tbody>\n",
       "</table>\n",
       "<p>16643 rows × 3 columns</p>\n",
       "</div>"
      ],
      "text/plain": [
       "                       path      folder       name\n",
       "0        training/3_462.jpg    training  3_462.jpg\n",
       "1         training/4_69.jpg    training   4_69.jpg\n",
       "2        training/5_925.jpg    training  5_925.jpg\n",
       "3        training/1_202.jpg    training  1_202.jpg\n",
       "4        training/5_241.jpg    training  5_241.jpg\n",
       "...                     ...         ...        ...\n",
       "16638  evaluation/5_165.jpg  evaluation  5_165.jpg\n",
       "16639  evaluation/5_393.jpg  evaluation  5_393.jpg\n",
       "16640  evaluation/8_157.jpg  evaluation  8_157.jpg\n",
       "16641   evaluation/4_86.jpg  evaluation   4_86.jpg\n",
       "16642  evaluation/5_141.jpg  evaluation  5_141.jpg\n",
       "\n",
       "[16643 rows x 3 columns]"
      ]
     },
     "execution_count": 41,
     "metadata": {},
     "output_type": "execute_result"
    }
   ],
   "source": [
    "# Save filenames and paths of all images into a dataframe\n",
    "filepaths = []\n",
    "\n",
    "for path, subdirs, files in os.walk('/home/andy/metis_work/project_05/data/food-11'):\n",
    "    for name in files:\n",
    "        filepaths.append([os.path.join(os.path.split(path)[1],name),os.path.split(path)[1],name])\n",
    "        \n",
    "df = pd.DataFrame(filepaths, columns=['path','folder','name'])\n",
    "df"
   ]
  },
  {
   "cell_type": "markdown",
   "metadata": {},
   "source": [
    "## 3. Add Targets\n",
    "Next, we add columns to represent targets for classification. One of the benefits of using flow_from_dataframe() is that we can easily change number of classes without having to restructure our dataset. Here we are creating 3 different classification schemes - 11 original categories, 8 consolidated categories, and binary classifier (meat or not_meat). The 8 consolidated category scheme was created for 2 primary reasons - to help with class imbalance and to more accurately reflect food groupings of interest when thinking about diet pattern composition."
   ]
  },
  {
   "cell_type": "code",
   "execution_count": 42,
   "metadata": {},
   "outputs": [],
   "source": [
    "# Dictionaries mapping file class_id's to category names\n",
    "\n",
    "# 11 original categories\n",
    "cat_names = {'0':'bread',\n",
    "            '1':'dairy',\n",
    "            '2':'dessert',\n",
    "            '3':'egg',\n",
    "            '4':'fried',\n",
    "            '5':'meat',\n",
    "            '6':'noodles',\n",
    "            '7':'rice',\n",
    "            '8':'seafood',\n",
    "            '9':'soup',\n",
    "            '10':'fruit-veg'}\n",
    "\n",
    "#8 consolidated categories. Bread, noodles, and rice consolidated into 'grains'. Dairy and egg consolidated together.\n",
    "cat2 = {'0':'grains',\n",
    "        '1':'dairy-egg',\n",
    "        '2':'dessert',\n",
    "        '3':'dairy-egg',\n",
    "        '4':'fried',\n",
    "        '5':'meat',\n",
    "        '6':'grains',\n",
    "        '7':'grains',\n",
    "        '8':'seafood',\n",
    "        '9':'soup',\n",
    "        '10':'fruit-veg'}"
   ]
  },
  {
   "cell_type": "code",
   "execution_count": 43,
   "metadata": {},
   "outputs": [],
   "source": [
    "# Add columns for target classifications\n",
    "df['cat'] = df['name'].str.split('_').str[0]\n",
    "df['cat_name'] = df['cat'].apply(lambda x: cat_names[x])\n",
    "df['cat2_name'] = df['cat'].apply(lambda x: cat2[x])\n",
    "df['is_meat'] = df['cat'].apply(lambda x: 'meat' if (x == '5') else 'not_meat')"
   ]
  },
  {
   "cell_type": "code",
   "execution_count": 44,
   "metadata": {},
   "outputs": [
    {
     "data": {
      "text/html": [
       "<div>\n",
       "<style scoped>\n",
       "    .dataframe tbody tr th:only-of-type {\n",
       "        vertical-align: middle;\n",
       "    }\n",
       "\n",
       "    .dataframe tbody tr th {\n",
       "        vertical-align: top;\n",
       "    }\n",
       "\n",
       "    .dataframe thead th {\n",
       "        text-align: right;\n",
       "    }\n",
       "</style>\n",
       "<table border=\"1\" class=\"dataframe\">\n",
       "  <thead>\n",
       "    <tr style=\"text-align: right;\">\n",
       "      <th></th>\n",
       "      <th>path</th>\n",
       "      <th>folder</th>\n",
       "      <th>name</th>\n",
       "      <th>cat</th>\n",
       "      <th>cat_name</th>\n",
       "      <th>cat2_name</th>\n",
       "      <th>is_meat</th>\n",
       "    </tr>\n",
       "  </thead>\n",
       "  <tbody>\n",
       "    <tr>\n",
       "      <th>0</th>\n",
       "      <td>training/3_462.jpg</td>\n",
       "      <td>training</td>\n",
       "      <td>3_462.jpg</td>\n",
       "      <td>3</td>\n",
       "      <td>egg</td>\n",
       "      <td>dairy-egg</td>\n",
       "      <td>not_meat</td>\n",
       "    </tr>\n",
       "    <tr>\n",
       "      <th>1</th>\n",
       "      <td>training/4_69.jpg</td>\n",
       "      <td>training</td>\n",
       "      <td>4_69.jpg</td>\n",
       "      <td>4</td>\n",
       "      <td>fried</td>\n",
       "      <td>fried</td>\n",
       "      <td>not_meat</td>\n",
       "    </tr>\n",
       "    <tr>\n",
       "      <th>2</th>\n",
       "      <td>training/5_925.jpg</td>\n",
       "      <td>training</td>\n",
       "      <td>5_925.jpg</td>\n",
       "      <td>5</td>\n",
       "      <td>meat</td>\n",
       "      <td>meat</td>\n",
       "      <td>meat</td>\n",
       "    </tr>\n",
       "    <tr>\n",
       "      <th>3</th>\n",
       "      <td>training/1_202.jpg</td>\n",
       "      <td>training</td>\n",
       "      <td>1_202.jpg</td>\n",
       "      <td>1</td>\n",
       "      <td>dairy</td>\n",
       "      <td>dairy-egg</td>\n",
       "      <td>not_meat</td>\n",
       "    </tr>\n",
       "    <tr>\n",
       "      <th>4</th>\n",
       "      <td>training/5_241.jpg</td>\n",
       "      <td>training</td>\n",
       "      <td>5_241.jpg</td>\n",
       "      <td>5</td>\n",
       "      <td>meat</td>\n",
       "      <td>meat</td>\n",
       "      <td>meat</td>\n",
       "    </tr>\n",
       "    <tr>\n",
       "      <th>...</th>\n",
       "      <td>...</td>\n",
       "      <td>...</td>\n",
       "      <td>...</td>\n",
       "      <td>...</td>\n",
       "      <td>...</td>\n",
       "      <td>...</td>\n",
       "      <td>...</td>\n",
       "    </tr>\n",
       "    <tr>\n",
       "      <th>16638</th>\n",
       "      <td>evaluation/5_165.jpg</td>\n",
       "      <td>evaluation</td>\n",
       "      <td>5_165.jpg</td>\n",
       "      <td>5</td>\n",
       "      <td>meat</td>\n",
       "      <td>meat</td>\n",
       "      <td>meat</td>\n",
       "    </tr>\n",
       "    <tr>\n",
       "      <th>16639</th>\n",
       "      <td>evaluation/5_393.jpg</td>\n",
       "      <td>evaluation</td>\n",
       "      <td>5_393.jpg</td>\n",
       "      <td>5</td>\n",
       "      <td>meat</td>\n",
       "      <td>meat</td>\n",
       "      <td>meat</td>\n",
       "    </tr>\n",
       "    <tr>\n",
       "      <th>16640</th>\n",
       "      <td>evaluation/8_157.jpg</td>\n",
       "      <td>evaluation</td>\n",
       "      <td>8_157.jpg</td>\n",
       "      <td>8</td>\n",
       "      <td>seafood</td>\n",
       "      <td>seafood</td>\n",
       "      <td>not_meat</td>\n",
       "    </tr>\n",
       "    <tr>\n",
       "      <th>16641</th>\n",
       "      <td>evaluation/4_86.jpg</td>\n",
       "      <td>evaluation</td>\n",
       "      <td>4_86.jpg</td>\n",
       "      <td>4</td>\n",
       "      <td>fried</td>\n",
       "      <td>fried</td>\n",
       "      <td>not_meat</td>\n",
       "    </tr>\n",
       "    <tr>\n",
       "      <th>16642</th>\n",
       "      <td>evaluation/5_141.jpg</td>\n",
       "      <td>evaluation</td>\n",
       "      <td>5_141.jpg</td>\n",
       "      <td>5</td>\n",
       "      <td>meat</td>\n",
       "      <td>meat</td>\n",
       "      <td>meat</td>\n",
       "    </tr>\n",
       "  </tbody>\n",
       "</table>\n",
       "<p>16643 rows × 7 columns</p>\n",
       "</div>"
      ],
      "text/plain": [
       "                       path      folder       name cat cat_name  cat2_name  \\\n",
       "0        training/3_462.jpg    training  3_462.jpg   3      egg  dairy-egg   \n",
       "1         training/4_69.jpg    training   4_69.jpg   4    fried      fried   \n",
       "2        training/5_925.jpg    training  5_925.jpg   5     meat       meat   \n",
       "3        training/1_202.jpg    training  1_202.jpg   1    dairy  dairy-egg   \n",
       "4        training/5_241.jpg    training  5_241.jpg   5     meat       meat   \n",
       "...                     ...         ...        ...  ..      ...        ...   \n",
       "16638  evaluation/5_165.jpg  evaluation  5_165.jpg   5     meat       meat   \n",
       "16639  evaluation/5_393.jpg  evaluation  5_393.jpg   5     meat       meat   \n",
       "16640  evaluation/8_157.jpg  evaluation  8_157.jpg   8  seafood    seafood   \n",
       "16641   evaluation/4_86.jpg  evaluation   4_86.jpg   4    fried      fried   \n",
       "16642  evaluation/5_141.jpg  evaluation  5_141.jpg   5     meat       meat   \n",
       "\n",
       "        is_meat  \n",
       "0      not_meat  \n",
       "1      not_meat  \n",
       "2          meat  \n",
       "3      not_meat  \n",
       "4          meat  \n",
       "...         ...  \n",
       "16638      meat  \n",
       "16639      meat  \n",
       "16640  not_meat  \n",
       "16641  not_meat  \n",
       "16642      meat  \n",
       "\n",
       "[16643 rows x 7 columns]"
      ]
     },
     "execution_count": 44,
     "metadata": {},
     "output_type": "execute_result"
    }
   ],
   "source": [
    "df"
   ]
  },
  {
   "cell_type": "code",
   "execution_count": 45,
   "metadata": {
    "scrolled": false
   },
   "outputs": [
    {
     "data": {
      "text/plain": [
       "folder      is_meat \n",
       "evaluation  not_meat    2915\n",
       "            meat         432\n",
       "training    not_meat    8541\n",
       "            meat        1325\n",
       "validation  not_meat    2981\n",
       "            meat         449\n",
       "Name: is_meat, dtype: int64"
      ]
     },
     "execution_count": 45,
     "metadata": {},
     "output_type": "execute_result"
    }
   ],
   "source": [
    "df.groupby('folder').is_meat.value_counts()"
   ]
  },
  {
   "cell_type": "code",
   "execution_count": 46,
   "metadata": {},
   "outputs": [
    {
     "data": {
      "text/plain": [
       "folder      cat_name \n",
       "evaluation  dessert       500\n",
       "            soup          500\n",
       "            meat          432\n",
       "            bread         368\n",
       "            egg           335\n",
       "            seafood       303\n",
       "            fried         287\n",
       "            fruit-veg     231\n",
       "            dairy         148\n",
       "            noodles       147\n",
       "            rice           96\n",
       "training    dessert      1500\n",
       "            soup         1500\n",
       "            meat         1325\n",
       "            bread         994\n",
       "            egg           986\n",
       "            seafood       855\n",
       "            fried         848\n",
       "            fruit-veg     709\n",
       "            noodles       440\n",
       "            dairy         429\n",
       "            rice          280\n",
       "validation  dessert       500\n",
       "            soup          500\n",
       "            meat          449\n",
       "            bread         362\n",
       "            seafood       347\n",
       "            egg           327\n",
       "            fried         326\n",
       "            fruit-veg     232\n",
       "            noodles       147\n",
       "            dairy         144\n",
       "            rice           96\n",
       "Name: cat_name, dtype: int64"
      ]
     },
     "execution_count": 46,
     "metadata": {},
     "output_type": "execute_result"
    }
   ],
   "source": [
    "df.groupby('folder').cat_name.value_counts()"
   ]
  },
  {
   "cell_type": "code",
   "execution_count": 47,
   "metadata": {},
   "outputs": [
    {
     "data": {
      "text/plain": [
       "folder      cat2_name\n",
       "evaluation  grains        611\n",
       "            dessert       500\n",
       "            soup          500\n",
       "            dairy-egg     483\n",
       "            meat          432\n",
       "            seafood       303\n",
       "            fried         287\n",
       "            fruit-veg     231\n",
       "training    grains       1714\n",
       "            dessert      1500\n",
       "            soup         1500\n",
       "            dairy-egg    1415\n",
       "            meat         1325\n",
       "            seafood       855\n",
       "            fried         848\n",
       "            fruit-veg     709\n",
       "validation  grains        605\n",
       "            dessert       500\n",
       "            soup          500\n",
       "            dairy-egg     471\n",
       "            meat          449\n",
       "            seafood       347\n",
       "            fried         326\n",
       "            fruit-veg     232\n",
       "Name: cat2_name, dtype: int64"
      ]
     },
     "execution_count": 47,
     "metadata": {},
     "output_type": "execute_result"
    }
   ],
   "source": [
    "df.groupby('folder').cat2_name.value_counts()"
   ]
  },
  {
   "cell_type": "markdown",
   "metadata": {},
   "source": [
    "Class imbalance is improved with consolidating the categories but still present. We will further address this while modeling."
   ]
  },
  {
   "cell_type": "code",
   "execution_count": null,
   "metadata": {},
   "outputs": [],
   "source": []
  },
  {
   "cell_type": "markdown",
   "metadata": {},
   "source": [
    "## 4. Save Data to file\n",
    "The entire dataframe is saved as separate training, validation, and evaluation dataframes to be read into Keras.\n",
    "\n",
    "Additionally, we are saving a dataframe that includes the training and validation data. After the final model is decided, this can be used to retrain prior to using on real world tests (images outside of the dataset)."
   ]
  },
  {
   "cell_type": "code",
   "execution_count": 48,
   "metadata": {},
   "outputs": [],
   "source": [
    "# Saving separate pkl files for training, validation, and evaluation subsets.\n",
    "df[df.folder == 'training'].to_pickle('/home/andy/sf20_ds18/curriculum/project-05/andy_project_05/data/food11_train.pkl')\n",
    "df[df.folder == 'validation'].to_pickle('/home/andy/sf20_ds18/curriculum/project-05/andy_project_05/data/food11_val.pkl')\n",
    "df[df.folder == 'evaluation'].to_pickle('/home/andy/sf20_ds18/curriculum/project-05/andy_project_05/data/food11_test.pkl')"
   ]
  },
  {
   "cell_type": "code",
   "execution_count": 49,
   "metadata": {},
   "outputs": [],
   "source": [
    "# Saving a dataframe with the validation data combined with the training data.\n",
    "df[(df.folder == 'training') | (df.folder=='validation')].to_pickle('/home/andy/sf20_ds18/curriculum/project-05/andy_project_05/data/food11_all.pkl')"
   ]
  },
  {
   "cell_type": "code",
   "execution_count": null,
   "metadata": {},
   "outputs": [],
   "source": []
  },
  {
   "cell_type": "code",
   "execution_count": null,
   "metadata": {},
   "outputs": [],
   "source": []
  }
 ],
 "metadata": {
  "kernelspec": {
   "display_name": "Python [conda env:metis] *",
   "language": "python",
   "name": "conda-env-metis-py"
  },
  "language_info": {
   "codemirror_mode": {
    "name": "ipython",
    "version": 3
   },
   "file_extension": ".py",
   "mimetype": "text/x-python",
   "name": "python",
   "nbconvert_exporter": "python",
   "pygments_lexer": "ipython3",
   "version": "3.7.4"
  }
 },
 "nbformat": 4,
 "nbformat_minor": 4
}
